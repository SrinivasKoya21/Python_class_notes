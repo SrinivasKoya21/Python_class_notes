{
  "nbformat": 4,
  "nbformat_minor": 0,
  "metadata": {
    "colab": {
      "provenance": []
    },
    "kernelspec": {
      "name": "python3",
      "display_name": "Python 3"
    },
    "language_info": {
      "name": "python"
    }
  },
  "cells": [
    {
      "cell_type": "code",
      "execution_count": 1,
      "metadata": {
        "colab": {
          "base_uri": "https://localhost:8080/"
        },
        "id": "wSafgaUYRrhb",
        "outputId": "294a34de-6d36-4c1f-fe1c-a2ffb36436b4"
      },
      "outputs": [
        {
          "output_type": "stream",
          "name": "stdout",
          "text": [
            "false_true[False]='n'\n",
            "false_true[True]='y'\n",
            "type(false_true)=<class 'tuple'>\n",
            "false_true[False]='disagree'\n",
            "false_true[True]='agree'\n"
          ]
        }
      ],
      "source": [
        "false_true ='ny'\n",
        "print(f'{false_true[False]=}')\n",
        "print(f\"{false_true[True]=}\")\n",
        "\n",
        "false_true ='disagree','agree'\n",
        "print(f\"{type(false_true)=}\")\n",
        "print(f\"{false_true[False]=}\")\n",
        "print(f\"{false_true[True]=}\")"
      ]
    },
    {
      "cell_type": "code",
      "source": [
        "fruits1= ['lime','pear','cherry','grape','orange']\n",
        "fruits2= ('lime','pear','cherry','grape','orange')\n",
        "\n",
        "#start:stop:step\n",
        "print(fruits1[-1:1:-1])\n",
        "\n",
        "x=slice(-1,1,-1)\n",
        "print(fruits2[x])\n",
        "\n",
        "#lime , cherry , orange\n",
        "x=slice(0,6,2)\n",
        "print(fruits2[x])\n",
        "\n",
        "#lime , pear, cherry\n",
        "x=slice(0,3,1)\n",
        "print(fruits2[x])\n",
        "\n",
        "#lime , cherry\n",
        "x=slice(0,3,2)\n",
        "print(fruits2[x])\n",
        "\n",
        "#grape, orange\n",
        "x=slice(3,5,1)\n",
        "print(fruits2[x])\n",
        "\n",
        "\n",
        "#reversed\n",
        "x=slice(None,None,-1)\n",
        "print(fruits2[x])\n",
        "\n",
        "# same\n",
        "x=slice(None,None,1)\n",
        "print(fruits2[x])\n",
        "\n"
      ],
      "metadata": {
        "colab": {
          "base_uri": "https://localhost:8080/"
        },
        "id": "k4nx6ozoSlwp",
        "outputId": "102cf055-b6fc-438b-e925-b338f52d6d5b"
      },
      "execution_count": 26,
      "outputs": [
        {
          "output_type": "stream",
          "name": "stdout",
          "text": [
            "['orange', 'grape', 'cherry']\n",
            "('orange', 'grape', 'cherry')\n",
            "('lime', 'cherry', 'orange')\n",
            "('lime', 'pear', 'cherry')\n",
            "('lime', 'cherry')\n",
            "('grape', 'orange')\n",
            "('orange', 'grape', 'cherry', 'pear', 'lime')\n",
            "('lime', 'pear', 'cherry', 'grape', 'orange')\n"
          ]
        }
      ]
    },
    {
      "cell_type": "code",
      "source": [
        "fruits1= ['lime','pear','cherry','grape','orange']  #mutable\n",
        "fruits2= ('lime','pear','cherry','grape','orange')  #immutable\n",
        "fruits3= ('lime',['pear'],'cherry','grape','orange') #immutable but have list inside\n",
        "\n",
        "\n",
        "#change pear to apple\n",
        "fruits1[1]='apple'\n",
        "print(fruits1)\n",
        "\n",
        "#fruits2[1]='apple'  #we cannot update tuple\n",
        "#print(fruits2)\n",
        "\n",
        "fruits3[1][0]='apple'\n",
        "print(fruits3)\n",
        "\n",
        "#change 'cherry' and 'orange' to 'guava' and 'avacado'\n",
        "fruits1[2:4]=['guava','avacado']\n",
        "print(fruits1)\n",
        "\n",
        "\n",
        "\n",
        "\n",
        "\n",
        "\n",
        "\n"
      ],
      "metadata": {
        "colab": {
          "base_uri": "https://localhost:8080/"
        },
        "id": "2r62z4hcS5fR",
        "outputId": "43eac613-ba30-4e5f-bfe3-e1e3fe99ab7d"
      },
      "execution_count": 35,
      "outputs": [
        {
          "output_type": "stream",
          "name": "stdout",
          "text": [
            "['lime', 'apple', 'cherry', 'grape', 'orange']\n",
            "('lime', ['apple'], 'cherry', 'grape', 'orange')\n",
            "['lime', 'apple', 'guava', 'avacado', 'orange']\n"
          ]
        }
      ]
    },
    {
      "cell_type": "code",
      "source": [
        "#pack\n",
        "class_enroll1 = ('Python', 25)\n",
        "class_enroll2 = 'Python' , 25\n",
        "print(class_enroll1, class_enroll2)\n",
        "\n",
        "#unpack\n",
        "course_name, student_count = class_enroll1\n",
        "print(course_name, student_count)"
      ],
      "metadata": {
        "colab": {
          "base_uri": "https://localhost:8080/"
        },
        "id": "HepbCdbvVjwv",
        "outputId": "b6f8edb9-ed5d-4141-f4e8-83e584a85fcb"
      },
      "execution_count": 40,
      "outputs": [
        {
          "output_type": "stream",
          "name": "stdout",
          "text": [
            "('Python', 25) ('Python', 25)\n",
            "Python 25\n"
          ]
        }
      ]
    },
    {
      "cell_type": "code",
      "source": [
        "#pack\n",
        "class_enroll1 = ['Python', 25]\n",
        "class_enroll2 = 'Java' , 30\n",
        "print(class_enroll1, class_enroll2)\n",
        "\n",
        "#unpack\n",
        "course_name1, student_count1 = class_enroll1\n",
        "course_name2, student_count2 = class_enroll2\n",
        "print(course_name1, student_count1)\n",
        "print(course_name2, student_count2)"
      ],
      "metadata": {
        "colab": {
          "base_uri": "https://localhost:8080/"
        },
        "id": "NHFppgYcZLGS",
        "outputId": "f2f8d7f2-fa7f-4fc1-c368-3a5fa9ba70b8"
      },
      "execution_count": 47,
      "outputs": [
        {
          "output_type": "stream",
          "name": "stdout",
          "text": [
            "['Python', 25] ('Java', 30)\n",
            "Python 25\n",
            "Java 30\n"
          ]
        }
      ]
    },
    {
      "cell_type": "code",
      "source": [
        "#swap\n",
        "a , b =10,20\n",
        "print(a,b)\n",
        "a,b = b,a\n",
        "print(a,b)\n",
        "\n",
        "#swap\n",
        "a , b , c =10,20,30\n",
        "print(a,b,c)\n",
        "a,b,c = b,c,a\n",
        "print(a,b,c)\n",
        "\n"
      ],
      "metadata": {
        "colab": {
          "base_uri": "https://localhost:8080/"
        },
        "id": "WR2CTNwXZpBj",
        "outputId": "4ac59507-a4df-491a-9f6e-6ac25b44e4a7"
      },
      "execution_count": 46,
      "outputs": [
        {
          "output_type": "stream",
          "name": "stdout",
          "text": [
            "10 20\n",
            "20 10\n",
            "10 20 30\n",
            "20 30 10\n"
          ]
        }
      ]
    },
    {
      "cell_type": "code",
      "source": [
        "a, b, *c , d = p =[1,2,3,4,5,6]\n",
        "print(f'{a=} {b=} {c=} {d=},{p}')\n",
        "a, b, *c , d = p ='123456'\n",
        "print(f'{a=} {b=} {c=} {d=},{p}')"
      ],
      "metadata": {
        "colab": {
          "base_uri": "https://localhost:8080/"
        },
        "id": "w6ymMxhxaSUy",
        "outputId": "098a768f-db4d-4bd7-82c3-38db7907f810"
      },
      "execution_count": 48,
      "outputs": [
        {
          "output_type": "stream",
          "name": "stdout",
          "text": [
            "a=1 b=2 c=[3, 4, 5] d=6,[1, 2, 3, 4, 5, 6]\n",
            "a='1' b='2' c=['3', '4', '5'] d='6',123456\n"
          ]
        }
      ]
    },
    {
      "cell_type": "code",
      "source": [
        "#compare a<2 and a>-2\n",
        "a=1\n",
        "print(-2 < a < 2)"
      ],
      "metadata": {
        "colab": {
          "base_uri": "https://localhost:8080/"
        },
        "id": "D_YaYEF6b9af",
        "outputId": "58d1d596-9607-4492-f74f-b3e6089fcc4e"
      },
      "execution_count": 50,
      "outputs": [
        {
          "output_type": "stream",
          "name": "stdout",
          "text": [
            "True\n"
          ]
        }
      ]
    },
    {
      "cell_type": "code",
      "source": [],
      "metadata": {
        "id": "11dEDdqwcTcg"
      },
      "execution_count": null,
      "outputs": []
    }
  ]
}