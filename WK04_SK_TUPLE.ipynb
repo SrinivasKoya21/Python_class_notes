{
  "nbformat": 4,
  "nbformat_minor": 0,
  "metadata": {
    "colab": {
      "provenance": []
    },
    "kernelspec": {
      "name": "python3",
      "display_name": "Python 3"
    },
    "language_info": {
      "name": "python"
    }
  },
  "cells": [
    {
      "cell_type": "code",
      "execution_count": 1,
      "metadata": {
        "colab": {
          "base_uri": "https://localhost:8080/"
        },
        "id": "NARDKJPvFUrC",
        "outputId": "8249d199-1be3-4fc3-928e-d03a52888b0e"
      },
      "outputs": [
        {
          "output_type": "stream",
          "name": "stdout",
          "text": [
            "()\n",
            "()\n",
            "<class 'tuple'>\n",
            "<class 'tuple'>\n"
          ]
        }
      ],
      "source": [
        "empty_tuple1=()\n",
        "empty_tuple2= tuple()\n",
        "print(empty_tuple1)\n",
        "print(empty_tuple2)\n",
        "\n",
        "print(type(empty_tuple1))\n",
        "print(type(empty_tuple2))\n"
      ]
    },
    {
      "cell_type": "code",
      "source": [
        "print(type((78,)), type((78)))\n",
        "\n",
        "v1=78,\n",
        "\n",
        "v2=78\n",
        "\n",
        "print(type(v1))\n",
        "print(type(v2))"
      ],
      "metadata": {
        "colab": {
          "base_uri": "https://localhost:8080/"
        },
        "id": "rgpkQ3FXGC8V",
        "outputId": "60ae4d8c-98d3-4609-ea5e-4baa5e6904e0"
      },
      "execution_count": 5,
      "outputs": [
        {
          "output_type": "stream",
          "name": "stdout",
          "text": [
            "<class 'tuple'> <class 'int'>\n",
            "<class 'tuple'>\n",
            "<class 'int'>\n"
          ]
        }
      ]
    },
    {
      "cell_type": "code",
      "source": [
        "students = (('Sam', 85,95,70),\n",
        "            ('Sai',100, 99, 98),\n",
        "            ('Teja',100,100,99))\n",
        "\n",
        "print(len(students))\n",
        "\n",
        "print(students[1], students[-2])\n",
        "\n",
        "print(students[2])\n",
        "\n",
        "print(students[2][1])"
      ],
      "metadata": {
        "colab": {
          "base_uri": "https://localhost:8080/"
        },
        "id": "_-8uNWkkGgmf",
        "outputId": "0f4b5b21-9d2c-4b41-963e-020818c09b39"
      },
      "execution_count": 15,
      "outputs": [
        {
          "output_type": "stream",
          "name": "stdout",
          "text": [
            "3\n",
            "('Sai', 100, 99, 98) ('Sai', 100, 99, 98)\n",
            "('Teja', 100, 100, 99)\n",
            "100\n"
          ]
        }
      ]
    },
    {
      "cell_type": "code",
      "source": [
        "score = (100,)*3\n",
        "print(score)\n",
        "\n",
        "score *=2\n",
        "print(score)\n",
        "print((1,2) +('a',))\n",
        "#print((1,2)+('a'))  #type error"
      ],
      "metadata": {
        "colab": {
          "base_uri": "https://localhost:8080/"
        },
        "id": "X9hcPiOXKvhT",
        "outputId": "4a2be675-1ea7-4235-f9cd-3c6c29ec3d3d"
      },
      "execution_count": 21,
      "outputs": [
        {
          "output_type": "stream",
          "name": "stdout",
          "text": [
            "(100, 100, 100)\n",
            "(100, 100, 100, 100, 100, 100)\n",
            "(1, 2, 'a')\n"
          ]
        }
      ]
    },
    {
      "cell_type": "code",
      "source": [
        "list1, list2, list3 = [2,1],[2,1,4],[]\n",
        "tuple1, tuple2, tuple3=(2,1),(2,1,4),()\n",
        "\n",
        "print(min(list1), min(list2,list3))\n",
        "print(min(tuple1), min(tuple2,tuple3))\n",
        "\n",
        "print(max(list1), max(list2 , list3))\n",
        "print(max(tuple1), max(tuple2 , tuple3))\n",
        "\n"
      ],
      "metadata": {
        "colab": {
          "base_uri": "https://localhost:8080/"
        },
        "id": "PxKL7TcGLlDK",
        "outputId": "ad06cb95-d078-4731-da42-7cb582da3c65"
      },
      "execution_count": 24,
      "outputs": [
        {
          "output_type": "stream",
          "name": "stdout",
          "text": [
            "1 []\n",
            "1 ()\n",
            "2 [2, 1, 4]\n",
            "2 (2, 1, 4)\n"
          ]
        }
      ]
    },
    {
      "cell_type": "code",
      "source": [],
      "metadata": {
        "id": "2Pte6WbXMvKK"
      },
      "execution_count": null,
      "outputs": []
    }
  ]
}