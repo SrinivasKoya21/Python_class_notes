{
  "nbformat": 4,
  "nbformat_minor": 0,
  "metadata": {
    "colab": {
      "provenance": []
    },
    "kernelspec": {
      "name": "python3",
      "display_name": "Python 3"
    },
    "language_info": {
      "name": "python"
    }
  },
  "cells": [
    {
      "cell_type": "code",
      "execution_count": null,
      "metadata": {
        "id": "6xKOBYXprAIN"
      },
      "outputs": [],
      "source": [
        "empty_list = []\n",
        "empty_list2= list()"
      ]
    },
    {
      "cell_type": "code",
      "source": [
        "print(empty_list, empty_list2)"
      ],
      "metadata": {
        "colab": {
          "base_uri": "https://localhost:8080/"
        },
        "id": "Ixp9NF7MtMjZ",
        "outputId": "9af1863d-ae35-4a6a-8b45-efe6192b37d6"
      },
      "execution_count": null,
      "outputs": [
        {
          "output_type": "stream",
          "name": "stdout",
          "text": [
            "[] []\n"
          ]
        }
      ]
    },
    {
      "cell_type": "code",
      "source": [
        "print(temps := [48.0, 30.5, 20.3, 100.0, 42.0])"
      ],
      "metadata": {
        "colab": {
          "base_uri": "https://localhost:8080/"
        },
        "id": "CqXHliVHtP-1",
        "outputId": "9b02ace6-a2c2-4925-a585-bd3279c56769"
      },
      "execution_count": null,
      "outputs": [
        {
          "output_type": "stream",
          "name": "stdout",
          "text": [
            "[48.0, 30.5, 20.3, 100.0, 42.0]\n"
          ]
        }
      ]
    },
    {
      "cell_type": "code",
      "source": [
        "print([\"Devara\", 2024, 500.00])"
      ],
      "metadata": {
        "colab": {
          "base_uri": "https://localhost:8080/"
        },
        "id": "TsKVw9Witraa",
        "outputId": "a3fc76b5-a106-485e-d647-b8edec8b1497"
      },
      "execution_count": null,
      "outputs": [
        {
          "output_type": "stream",
          "name": "stdout",
          "text": [
            "['Devara', 2024, 500.0]\n"
          ]
        }
      ]
    },
    {
      "cell_type": "code",
      "source": [
        "print(list(\"abc\"))"
      ],
      "metadata": {
        "colab": {
          "base_uri": "https://localhost:8080/"
        },
        "id": "G6S31NIyt33c",
        "outputId": "174119a9-ff00-407e-c5ba-46a6cbf9a144"
      },
      "execution_count": null,
      "outputs": [
        {
          "output_type": "stream",
          "name": "stdout",
          "text": [
            "['a', 'b', 'c']\n"
          ]
        }
      ]
    },
    {
      "cell_type": "code",
      "source": [
        "for c in 'abc':\n",
        "  print(c)"
      ],
      "metadata": {
        "colab": {
          "base_uri": "https://localhost:8080/"
        },
        "id": "YR4gNxz5uliv",
        "outputId": "3141f52f-2d41-411f-8c1e-b94b20312acb"
      },
      "execution_count": null,
      "outputs": [
        {
          "output_type": "stream",
          "name": "stdout",
          "text": [
            "a\n",
            "b\n",
            "c\n"
          ]
        }
      ]
    },
    {
      "cell_type": "code",
      "source": [
        "list(\"Hello world\")"
      ],
      "metadata": {
        "colab": {
          "base_uri": "https://localhost:8080/"
        },
        "id": "v7bGSsgvu76I",
        "outputId": "563cdc8a-6019-4993-fca7-d92cba67c5e7"
      },
      "execution_count": null,
      "outputs": [
        {
          "output_type": "execute_result",
          "data": {
            "text/plain": [
              "['H', 'e', 'l', 'l', 'o', ' ', 'w', 'o', 'r', 'l', 'd']"
            ]
          },
          "metadata": {},
          "execution_count": 9
        }
      ]
    },
    {
      "cell_type": "code",
      "source": [
        "print(list(['a', 'b','c',])) #list from a list"
      ],
      "metadata": {
        "colab": {
          "base_uri": "https://localhost:8080/"
        },
        "id": "cGfWEYrGu_rs",
        "outputId": "59674e0f-f9e1-49c3-ee58-268a507604f6"
      },
      "execution_count": null,
      "outputs": [
        {
          "output_type": "stream",
          "name": "stdout",
          "text": [
            "['a', 'b', 'c']\n"
          ]
        }
      ]
    },
    {
      "cell_type": "code",
      "source": [
        "print(list(('a', 'b','c',))) #list from tuple"
      ],
      "metadata": {
        "colab": {
          "base_uri": "https://localhost:8080/"
        },
        "id": "qMRcbRPYvu8W",
        "outputId": "86ee0e88-6f14-42f1-80d7-0f508a1b4990"
      },
      "execution_count": null,
      "outputs": [
        {
          "output_type": "stream",
          "name": "stdout",
          "text": [
            "['a', 'b', 'c']\n"
          ]
        }
      ]
    },
    {
      "cell_type": "code",
      "source": [
        "print(list({'a':1, 'b':2,'c':3,})) #list from dictonary"
      ],
      "metadata": {
        "colab": {
          "base_uri": "https://localhost:8080/"
        },
        "id": "3EBA8JFhwYP6",
        "outputId": "bbc156fb-c7c1-4a4c-a3f3-cbdf0d20bb0c"
      },
      "execution_count": null,
      "outputs": [
        {
          "output_type": "stream",
          "name": "stdout",
          "text": [
            "['a', 'b', 'c']\n"
          ]
        }
      ]
    },
    {
      "cell_type": "code",
      "source": [
        "print([1,2] + ['a','b','c',]) #concatinate"
      ],
      "metadata": {
        "colab": {
          "base_uri": "https://localhost:8080/"
        },
        "id": "9wUxv7B9wakZ",
        "outputId": "47fc8cd7-2f09-49c0-9788-617b34c924bd"
      },
      "execution_count": null,
      "outputs": [
        {
          "output_type": "stream",
          "name": "stdout",
          "text": [
            "[1, 2, 'a', 'b', 'c']\n"
          ]
        }
      ]
    },
    {
      "cell_type": "code",
      "source": [
        "print([1,2] * 3) #repeat"
      ],
      "metadata": {
        "colab": {
          "base_uri": "https://localhost:8080/"
        },
        "id": "t1WSIl9Fw-Zq",
        "outputId": "10106f9e-329c-401e-82e0-53ed835ce133"
      },
      "execution_count": null,
      "outputs": [
        {
          "output_type": "stream",
          "name": "stdout",
          "text": [
            "[1, 2, 1, 2, 1, 2]\n"
          ]
        }
      ]
    },
    {
      "cell_type": "code",
      "source": [
        "print([[1,2]] * 3) #list of list"
      ],
      "metadata": {
        "colab": {
          "base_uri": "https://localhost:8080/"
        },
        "id": "BlXpJZBWxB5D",
        "outputId": "f5eda7d4-ec71-4bf4-d2cf-9a38e08170fb"
      },
      "execution_count": null,
      "outputs": [
        {
          "output_type": "stream",
          "name": "stdout",
          "text": [
            "[[1, 2], [1, 2], [1, 2]]\n"
          ]
        }
      ]
    },
    {
      "cell_type": "code",
      "source": [
        "students = [['Sam', 85,95,70],\n",
        "            ['Sai',100, 99, 98],\n",
        "            ['Teja',100,100,99]]\n",
        "print(len(students))"
      ],
      "metadata": {
        "colab": {
          "base_uri": "https://localhost:8080/"
        },
        "id": "4vbENw3LxUEi",
        "outputId": "246c6b47-440b-40ed-d800-e41f230eba70"
      },
      "execution_count": null,
      "outputs": [
        {
          "output_type": "stream",
          "name": "stdout",
          "text": [
            "3\n"
          ]
        }
      ]
    },
    {
      "cell_type": "code",
      "source": [
        "print(students[1])\n",
        "print(students[2][1])"
      ],
      "metadata": {
        "colab": {
          "base_uri": "https://localhost:8080/"
        },
        "id": "LgKFRdVfyZ7X",
        "outputId": "ad7096b7-f6fc-4f3d-facf-3b51de72bee0"
      },
      "execution_count": null,
      "outputs": [
        {
          "output_type": "stream",
          "name": "stdout",
          "text": [
            "['Sai', 100, 99, 98]\n",
            "100\n"
          ]
        }
      ]
    },
    {
      "cell_type": "code",
      "source": [
        "inventory = [\"staff\", \"hat\", \"shoes\", \"bread\"]\n",
        "print(f'{inventory=}')"
      ],
      "metadata": {
        "colab": {
          "base_uri": "https://localhost:8080/"
        },
        "id": "LFJupYzZykxQ",
        "outputId": "1e3b0750-4b3c-4fbf-e719-0930a39f2e48"
      },
      "execution_count": null,
      "outputs": [
        {
          "output_type": "stream",
          "name": "stdout",
          "text": [
            "inventory=['staff', 'hat', 'shoes', 'bread']\n"
          ]
        }
      ]
    },
    {
      "cell_type": "code",
      "source": [
        "print('After append(\"portion\"):',f'{inventory.append(\"portion\")}',f'{inventory = }') #changed in place"
      ],
      "metadata": {
        "colab": {
          "base_uri": "https://localhost:8080/"
        },
        "id": "Zm8yhCjr0cI6",
        "outputId": "3cbb1a9b-0ad7-4f75-8c66-2bb4cff96030"
      },
      "execution_count": null,
      "outputs": [
        {
          "output_type": "stream",
          "name": "stdout",
          "text": [
            "After append(\"portion\"): None inventory = ['staff', 'hat', 'shoes', 'bread', 'portion']\n"
          ]
        }
      ]
    },
    {
      "cell_type": "code",
      "source": [
        "print(inventory)"
      ],
      "metadata": {
        "colab": {
          "base_uri": "https://localhost:8080/"
        },
        "id": "1xKGDh5X0orw",
        "outputId": "381b72a6-bd53-4b84-f7c6-9e438cc3b943"
      },
      "execution_count": null,
      "outputs": [
        {
          "output_type": "stream",
          "name": "stdout",
          "text": [
            "['staff', 'hat', 'shoes', 'bread', 'portion']\n"
          ]
        }
      ]
    },
    {
      "cell_type": "code",
      "source": [
        "help(list.append)"
      ],
      "metadata": {
        "colab": {
          "base_uri": "https://localhost:8080/"
        },
        "id": "Lp7EajTW1JRH",
        "outputId": "c02e8af1-36ad-4f9a-cea1-89947b0d27d5"
      },
      "execution_count": null,
      "outputs": [
        {
          "output_type": "stream",
          "name": "stdout",
          "text": [
            "Help on method_descriptor:\n",
            "\n",
            "append(self, object, /) unbound builtins.list method\n",
            "    Append object to the end of the list.\n",
            "\n"
          ]
        }
      ]
    },
    {
      "cell_type": "code",
      "source": [
        "print('After inert(\"robe\"):',f'{inventory.insert(3,\"robe\")}')"
      ],
      "metadata": {
        "colab": {
          "base_uri": "https://localhost:8080/"
        },
        "id": "4NgvqGMy1pCo",
        "outputId": "ea92e21b-70c4-456c-ddac-331754bc68d6"
      },
      "execution_count": null,
      "outputs": [
        {
          "output_type": "stream",
          "name": "stdout",
          "text": [
            "After inert(\"robe\"): None\n"
          ]
        }
      ]
    },
    {
      "cell_type": "code",
      "source": [
        "print(inventory)"
      ],
      "metadata": {
        "colab": {
          "base_uri": "https://localhost:8080/"
        },
        "id": "EBTOJQwD1_c0",
        "outputId": "fba822a7-6df7-45cc-e2dd-7a62a2727fdf"
      },
      "execution_count": null,
      "outputs": [
        {
          "output_type": "stream",
          "name": "stdout",
          "text": [
            "['staff', 'hat', 'shoes', 'robe', 'bread', 'portion']\n"
          ]
        }
      ]
    },
    {
      "cell_type": "code",
      "source": [
        "inventory.remove(\"shoes\")"
      ],
      "metadata": {
        "id": "mI_eiHFt2IyG"
      },
      "execution_count": null,
      "outputs": []
    },
    {
      "cell_type": "code",
      "source": [
        "print(inventory)"
      ],
      "metadata": {
        "colab": {
          "base_uri": "https://localhost:8080/"
        },
        "id": "8IOnAqSd2q2-",
        "outputId": "6fdb3f32-3c55-4b7c-b6df-790a2e3d4ee8"
      },
      "execution_count": null,
      "outputs": [
        {
          "output_type": "stream",
          "name": "stdout",
          "text": [
            "['staff', 'hat', 'robe', 'bread', 'portion']\n"
          ]
        }
      ]
    },
    {
      "cell_type": "code",
      "source": [
        "inventory.pop(4)"
      ],
      "metadata": {
        "colab": {
          "base_uri": "https://localhost:8080/",
          "height": 36
        },
        "id": "cFICDcaH3SiY",
        "outputId": "fd474514-53f5-4539-fc60-1faf7ceb772b"
      },
      "execution_count": null,
      "outputs": [
        {
          "output_type": "execute_result",
          "data": {
            "text/plain": [
              "'portion'"
            ],
            "application/vnd.google.colaboratory.intrinsic+json": {
              "type": "string"
            }
          },
          "metadata": {},
          "execution_count": 70
        }
      ]
    },
    {
      "cell_type": "code",
      "source": [
        "print(inventory)"
      ],
      "metadata": {
        "colab": {
          "base_uri": "https://localhost:8080/"
        },
        "id": "64Lnj2GV3dHv",
        "outputId": "d179fe52-0367-493e-a93f-95d2de2c6c87"
      },
      "execution_count": null,
      "outputs": [
        {
          "output_type": "stream",
          "name": "stdout",
          "text": [
            "['staff', 'hat', 'robe', 'bread']\n"
          ]
        }
      ]
    },
    {
      "cell_type": "code",
      "source": [
        "item=inventory.pop(1)"
      ],
      "metadata": {
        "id": "vS5vFhPI3g1n"
      },
      "execution_count": null,
      "outputs": []
    },
    {
      "cell_type": "code",
      "source": [
        "print(item)"
      ],
      "metadata": {
        "colab": {
          "base_uri": "https://localhost:8080/"
        },
        "id": "X_xeYSPD4JbC",
        "outputId": "64a4e207-d7c4-4955-df3e-dfb880d9a7fa"
      },
      "execution_count": null,
      "outputs": [
        {
          "output_type": "stream",
          "name": "stdout",
          "text": [
            "hat\n"
          ]
        }
      ]
    },
    {
      "cell_type": "code",
      "source": [
        "inventory.pop(1)\n",
        "print('After pop(last_item):',item, inventory)"
      ],
      "metadata": {
        "colab": {
          "base_uri": "https://localhost:8080/"
        },
        "id": "G_E0lanq4zjV",
        "outputId": "c1ab053b-847f-424c-df95-66ee6c160b77"
      },
      "execution_count": null,
      "outputs": [
        {
          "output_type": "stream",
          "name": "stdout",
          "text": [
            "After pop(last_item): hat ['robe']\n"
          ]
        }
      ]
    },
    {
      "cell_type": "code",
      "source": [
        "inventory1 = [\"chickem\",\"mutton\",\"prawns\",\"fish\",\"dal\",\"curd\"]\n",
        "\n",
        "del inventory1[1]\n"
      ],
      "metadata": {
        "id": "TY2qBLIk48Fo"
      },
      "execution_count": null,
      "outputs": []
    },
    {
      "cell_type": "code",
      "source": [
        "print(inventory1)"
      ],
      "metadata": {
        "colab": {
          "base_uri": "https://localhost:8080/"
        },
        "id": "6dDlumxB6WM-",
        "outputId": "abb526bf-6bef-4d48-8ea4-06738a0f6a20"
      },
      "execution_count": null,
      "outputs": [
        {
          "output_type": "stream",
          "name": "stdout",
          "text": [
            "['chickem', 'prawns', 'fish', 'dal', 'curd']\n"
          ]
        }
      ]
    },
    {
      "cell_type": "code",
      "source": [
        "names = [\"Lizzy\", \"Mike\", \"Joel\", \"Anne\", \"Donald Duck\"]"
      ],
      "metadata": {
        "id": "szCZY3Nb6hdH"
      },
      "execution_count": null,
      "outputs": []
    },
    {
      "cell_type": "code",
      "source": [
        "ages = [22, 35, 24, 17, 28]"
      ],
      "metadata": {
        "id": "0gXgmr4F6j77"
      },
      "execution_count": null,
      "outputs": []
    },
    {
      "cell_type": "code",
      "source": [
        "mylist = list(range(50))"
      ],
      "metadata": {
        "id": "sIS8LYv-6lcX"
      },
      "execution_count": null,
      "outputs": []
    },
    {
      "cell_type": "code",
      "source": [
        "print(mylist)"
      ],
      "metadata": {
        "colab": {
          "base_uri": "https://localhost:8080/"
        },
        "id": "bNjcnIoG91-u",
        "outputId": "0b95bf53-db65-4050-ad4e-b313de7b377b"
      },
      "execution_count": null,
      "outputs": [
        {
          "output_type": "stream",
          "name": "stdout",
          "text": [
            "[0, 1, 2, 3, 4, 5, 6, 7, 8, 9, 10, 11, 12, 13, 14, 15, 16, 17, 18, 19, 20, 21, 22, 23, 24, 25, 26, 27, 28, 29, 30, 31, 32, 33, 34, 35, 36, 37, 38, 39, 40, 41, 42, 43, 44, 45, 46, 47, 48, 49]\n"
          ]
        }
      ]
    },
    {
      "cell_type": "code",
      "source": [
        "inventory1 = [\"chickem\",\"mutton\",\"prawns\",\"fish\",\"dal\",\"curd\"]\n",
        "del inventory1[:]\n",
        "print('After inventory:', inventory1)\n",
        "\n",
        "inventory1 = [\"chickem\",\"mutton\",\"prawns\",\"fish\",\"dal\",\"curd\"]\n",
        "del inventory1[1]\n",
        "print('After inventory:', inventory1)\n",
        "\n",
        "inventory1 = [\"chickem\",\"mutton\",\"prawns\",\"fish\",\"dal\",\"curd\"]\n",
        "inventory1.clear()\n",
        "print('After inventory:', inventory1)\n"
      ],
      "metadata": {
        "colab": {
          "base_uri": "https://localhost:8080/"
        },
        "id": "Bg_wHHcN9-iG",
        "outputId": "67dca8a1-30cf-47c0-e0ab-4fac78be0a68"
      },
      "execution_count": null,
      "outputs": [
        {
          "output_type": "stream",
          "name": "stdout",
          "text": [
            "After inventory: []\n",
            "After inventory: ['chickem', 'prawns', 'fish', 'dal', 'curd']\n",
            "After inventory: []\n"
          ]
        }
      ]
    },
    {
      "cell_type": "code",
      "source": [
        "list1=['H','i']\n",
        "list2=[',','m','l','l']\n",
        "print(f'{list1=} \\n{list2=}')\n",
        "list1.append(list2)\n",
        "print('After list1.append(list2): \\n',f'{list1=} \\n{list2= }\\n')"
      ],
      "metadata": {
        "colab": {
          "base_uri": "https://localhost:8080/"
        },
        "id": "g0FCMxlA__0w",
        "outputId": "8e04033c-799e-4df5-f230-bb61aeac166e"
      },
      "execution_count": null,
      "outputs": [
        {
          "output_type": "stream",
          "name": "stdout",
          "text": [
            "list1=['H', 'i'] \n",
            "list2=[',', 'm', 'l', 'l']\n",
            "After list1.append(list2): \n",
            " list1=['H', 'i', [',', 'm', 'l', 'l']] \n",
            "list2= [',', 'm', 'l', 'l']\n",
            "\n"
          ]
        }
      ]
    },
    {
      "cell_type": "code",
      "source": [
        "list1=['H','i']\n",
        "list2=[',','m','l','l']\n",
        "print(f'{list1 = } \\n{list2 =}')\n",
        "list1.extend(list2)\n",
        "print('After list1.extend(list2): \\n',f'{list1=} \\n{list2= }\\n')\n"
      ],
      "metadata": {
        "colab": {
          "base_uri": "https://localhost:8080/"
        },
        "id": "td9vMHU7B7zL",
        "outputId": "0a6f1a1b-b84d-49a3-97e2-7ed6053ac0b3"
      },
      "execution_count": null,
      "outputs": [
        {
          "output_type": "stream",
          "name": "stdout",
          "text": [
            "list1 = ['H', 'i'] \n",
            "list2 =[',', 'm', 'l', 'l']\n",
            "After list1.extend(list2): \n",
            " list1=['H', 'i', ',', 'm', 'l', 'l'] \n",
            "list2= [',', 'm', 'l', 'l']\n",
            "\n"
          ]
        }
      ]
    },
    {
      "cell_type": "code",
      "source": [
        "list1=['H','i']\n",
        "list2=[',','m','l','l']\n",
        "print(f'{list1 = } \\n{list2 =}')\n",
        "list1 += list2\n",
        "print('After list1+list2: \\n',f'{list1=} \\n{list2= }\\n')"
      ],
      "metadata": {
        "colab": {
          "base_uri": "https://localhost:8080/"
        },
        "id": "RBuiaQNfCV7p",
        "outputId": "a21dd685-2ede-462d-f74e-c9cd7221854b"
      },
      "execution_count": null,
      "outputs": [
        {
          "output_type": "stream",
          "name": "stdout",
          "text": [
            "list1 = ['H', 'i'] \n",
            "list2 =[',', 'm', 'l', 'l']\n",
            "After list1+list2: \n",
            " list1=['H', 'i', ',', 'm', 'l', 'l'] \n",
            "list2= [',', 'm', 'l', 'l']\n",
            "\n"
          ]
        }
      ]
    },
    {
      "cell_type": "code",
      "source": [
        "nums = [6,8,2,3,5]\n",
        "print(f'{nums = }')\n",
        "print(f'{nums.reverse()}')\n",
        "print(f'{nums = } changed in place {type(nums) = }')"
      ],
      "metadata": {
        "id": "TsWa9-NiIIiC"
      },
      "execution_count": null,
      "outputs": []
    },
    {
      "cell_type": "code",
      "source": [
        "nums = [6,8,2,3,5]\n",
        "print(f'{nums = }')\n",
        "print(f'{nums.reverse()}')\n",
        "print(f'{nums = } changed in place {type(nums) = }')\n",
        "print('\\nIterate the nums')\n",
        "for n in nums:\n",
        "  print(n, end=' ')\n",
        "print(\"\\nIterate the nums again.\")\n",
        "for n in nums:\n",
        "  print(n, end=' ')"
      ],
      "metadata": {
        "colab": {
          "base_uri": "https://localhost:8080/"
        },
        "id": "gMMTmlfiCceF",
        "outputId": "9e3fd965-3473-482b-af4b-fbe6e0394870"
      },
      "execution_count": null,
      "outputs": [
        {
          "output_type": "stream",
          "name": "stdout",
          "text": [
            "nums = [6, 8, 2, 3, 5]\n",
            "None\n",
            "nums = [5, 3, 2, 8, 6] changed in place type(nums) = <class 'list'>\n",
            "\n",
            "Iterate the nums\n",
            "5 3 2 8 6 \n",
            "Iterate the nums again.\n",
            "5 3 2 8 6 "
          ]
        }
      ]
    },
    {
      "cell_type": "code",
      "source": [
        "nums = [6,8,2,3,5]\n",
        "print(f'{nums = }')\n",
        "reverse_nums = reversed(nums)\n",
        "print(f'{reverse_nums = }')\n",
        "print(f'{nums = } changed in place {type(nums) = }')\n",
        "print('\\nIterate the nums')\n",
        "for n in nums:\n",
        "  print(n, end=' ')\n",
        "print(\"\\nIterate the nums again.\")\n",
        "for n in nums:\n",
        "  print(n, end=' ')"
      ],
      "metadata": {
        "colab": {
          "base_uri": "https://localhost:8080/"
        },
        "id": "6zxYF_w0EefX",
        "outputId": "965f7890-0b4f-49b2-f748-4a4b8eb74cdd"
      },
      "execution_count": null,
      "outputs": [
        {
          "output_type": "stream",
          "name": "stdout",
          "text": [
            "nums = [6, 8, 2, 3, 5]\n",
            "reverse_nums = <list_reverseiterator object at 0x7971608c3a90>\n",
            "nums = [6, 8, 2, 3, 5] changed in place type(nums) = <class 'list'>\n",
            "\n",
            "Iterate the nums\n",
            "6 8 2 3 5 \n",
            "Iterate the nums again.\n",
            "6 8 2 3 5 "
          ]
        }
      ]
    },
    {
      "cell_type": "code",
      "source": [
        "nums = [6,8,2,3,5]\n",
        "print(f'{nums = }')\n",
        "reverse_nums = reversed(nums)\n",
        "print(f'{reverse_nums = } ',{type(reverse_nums)})\n"
      ],
      "metadata": {
        "colab": {
          "base_uri": "https://localhost:8080/"
        },
        "id": "wZga6_QHEy9M",
        "outputId": "963944b0-a1fa-4763-ffc7-f39992153955"
      },
      "execution_count": null,
      "outputs": [
        {
          "output_type": "stream",
          "name": "stdout",
          "text": [
            "nums = [6, 8, 2, 3, 5]\n",
            "reverse_nums = <list_reverseiterator object at 0x797160493790>  {<class 'list_reverseiterator'>}\n"
          ]
        }
      ]
    },
    {
      "cell_type": "code",
      "source": [
        "#list.sort\n",
        "nums = [6,8,2,3,5]\n",
        "print(f'{nums = }')\n",
        "print(f'{nums.sort()}')   #ascending order\n",
        "print(f'{nums = } changed in place {type(nums) = }')\n",
        "\n",
        "nums = [6,8,2,3,5]\n",
        "print(f'{nums = }')\n",
        "print(f'{nums.sort(reverse=True)}')\n",
        "print(f'{nums = } changed in place {type(nums) = }')"
      ],
      "metadata": {
        "colab": {
          "base_uri": "https://localhost:8080/"
        },
        "id": "-F3qGLrSFx5a",
        "outputId": "aad94724-94c9-43fc-86e7-7f3aa6b224b9"
      },
      "execution_count": null,
      "outputs": [
        {
          "output_type": "stream",
          "name": "stdout",
          "text": [
            "nums = [6, 8, 2, 3, 5]\n",
            "None\n",
            "nums = [2, 3, 5, 6, 8] changed in place type(nums) = <class 'list'>\n",
            "nums = [6, 8, 2, 3, 5]\n",
            "None\n",
            "nums = [8, 6, 5, 3, 2] changed in place type(nums) = <class 'list'>\n"
          ]
        }
      ]
    },
    {
      "cell_type": "code",
      "source": [
        "help(list.sort)"
      ],
      "metadata": {
        "colab": {
          "base_uri": "https://localhost:8080/"
        },
        "id": "kAXAkYIZITRe",
        "outputId": "07d625d5-9ece-4222-80e5-c2de2a233db8"
      },
      "execution_count": null,
      "outputs": [
        {
          "output_type": "stream",
          "name": "stdout",
          "text": [
            "Help on method_descriptor:\n",
            "\n",
            "sort(self, /, *, key=None, reverse=False) unbound builtins.list method\n",
            "    Sort the list in ascending order and return None.\n",
            "    \n",
            "    The sort is in-place (i.e. the list itself is modified) and stable (i.e. the\n",
            "    order of two equal elements is maintained).\n",
            "    \n",
            "    If a key function is given, apply it once to each list item and sort them,\n",
            "    ascending or descending, according to their function values.\n",
            "    \n",
            "    The reverse flag can be set to sort in descending order.\n",
            "\n"
          ]
        }
      ]
    },
    {
      "cell_type": "code",
      "source": [
        "nums = [6,8,2,3,5]\n",
        "print(f'{nums = }')\n",
        "sorted_nums= sorted(nums, reverse=True)\n",
        "print(f'{sorted_nums = },{type(sorted_nums)}')\n",
        "#print(f'{nums = } changed in place {type(nums) = }')"
      ],
      "metadata": {
        "colab": {
          "base_uri": "https://localhost:8080/"
        },
        "id": "gKv57BRXJOr_",
        "outputId": "c2deae0e-2631-415b-d0ff-4d7e9fa548bd"
      },
      "execution_count": null,
      "outputs": [
        {
          "output_type": "stream",
          "name": "stdout",
          "text": [
            "nums = [6, 8, 2, 3, 5]\n",
            "sorted_nums = [8, 6, 5, 3, 2],<class 'list'>\n",
            "nums = [6, 8, 2, 3, 5] changed in place type(nums) = <class 'list'>\n"
          ]
        }
      ]
    },
    {
      "cell_type": "code",
      "source": [
        "courses = ['History' , 'Math', 'Physics','Computer Science']\n",
        "print(courses)"
      ],
      "metadata": {
        "colab": {
          "base_uri": "https://localhost:8080/"
        },
        "id": "5ptzIwHdKcYF",
        "outputId": "3e885384-1677-46bf-bd3c-118e0708bac0"
      },
      "execution_count": null,
      "outputs": [
        {
          "output_type": "stream",
          "name": "stdout",
          "text": [
            "['History', 'Math', 'Physics', 'Computer Science']\n"
          ]
        }
      ]
    },
    {
      "cell_type": "code",
      "source": [
        "help(str.join)"
      ],
      "metadata": {
        "colab": {
          "base_uri": "https://localhost:8080/"
        },
        "id": "KaAOWicDKc_l",
        "outputId": "8a9a6c70-55ee-412f-9905-baa9e7a8b489"
      },
      "execution_count": null,
      "outputs": [
        {
          "output_type": "stream",
          "name": "stdout",
          "text": [
            "Help on method_descriptor:\n",
            "\n",
            "join(self, iterable, /) unbound builtins.str method\n",
            "    Concatenate any number of strings.\n",
            "    \n",
            "    The string whose method is called is inserted in between each given string.\n",
            "    The result is returned as a new string.\n",
            "    \n",
            "    Example: '.'.join(['ab', 'pq', 'rs']) -> 'ab.pq.rs'\n",
            "\n"
          ]
        }
      ]
    },
    {
      "cell_type": "code",
      "source": [
        "print(\"|\".join(str(x) for x in courses))"
      ],
      "metadata": {
        "colab": {
          "base_uri": "https://localhost:8080/"
        },
        "id": "H1IKRD6kLAV_",
        "outputId": "72bcd696-830c-4265-a033-3f009daec631"
      },
      "execution_count": null,
      "outputs": [
        {
          "output_type": "stream",
          "name": "stdout",
          "text": [
            "History|Math|Physics|Computer Science\n"
          ]
        }
      ]
    },
    {
      "cell_type": "code",
      "source": [
        "course_str = \"|\".join(courses)\n",
        "print(course_str)\n",
        "course_list = course_str.split(\"|\")\n",
        "print(course_list)"
      ],
      "metadata": {
        "colab": {
          "base_uri": "https://localhost:8080/"
        },
        "id": "TpxCzvxCLNMD",
        "outputId": "e20e5fcf-7da8-40e3-d259-c78cdedb3c87"
      },
      "execution_count": null,
      "outputs": [
        {
          "output_type": "stream",
          "name": "stdout",
          "text": [
            "History|Math|Physics|Computer Science\n",
            "['History', 'Math', 'Physics', 'Computer Science']\n"
          ]
        }
      ]
    },
    {
      "cell_type": "code",
      "source": [
        "trip = \"{:15}{:15}{:15}\\n\".format(\"Distance\",\"Gallons\",\"MPG\")\n",
        "print(trip)\n",
        "\n",
        "print(trip.split())\n",
        "\n",
        "print(trip.split(maxsplit=1))"
      ],
      "metadata": {
        "colab": {
          "base_uri": "https://localhost:8080/"
        },
        "id": "0LCzNI12Lvl8",
        "outputId": "5e644b47-0554-4b8f-a6ab-737f2c425cbd"
      },
      "execution_count": null,
      "outputs": [
        {
          "output_type": "stream",
          "name": "stdout",
          "text": [
            "Distance       Gallons        MPG            \n",
            "\n",
            "['Distance', 'Gallons', 'MPG']\n",
            "['Distance', 'Gallons        MPG            \\n']\n"
          ]
        }
      ]
    },
    {
      "cell_type": "code",
      "source": [],
      "metadata": {
        "id": "oRyVF32JMX44"
      },
      "execution_count": null,
      "outputs": []
    }
  ]
}